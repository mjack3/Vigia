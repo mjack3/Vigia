{
 "cells": [
  {
   "cell_type": "code",
   "execution_count": 14,
   "metadata": {},
   "outputs": [],
   "source": [
    "import torchvision.models as models\n",
    "import torchvision.transforms as transforms\n",
    "import os\n",
    "import torchvision.datasets\n",
    "from matplotlib import pyplot as plt\n",
    "import torch\n",
    "\n",
    "start = torch.cuda.Event(enable_timing=True)\n",
    "end = torch.cuda.Event(enable_timing=True)"
   ]
  },
  {
   "cell_type": "code",
   "execution_count": 21,
   "metadata": {},
   "outputs": [],
   "source": [
    "# resnet18 = models.resnet18(True)\n",
    "resnet50 = models.resnet50(True)\n",
    "# mobilenet = models.mobilenet_v2(True)\n",
    "# vgg = models.vgg16(True)"
   ]
  },
  {
   "cell_type": "code",
   "execution_count": 16,
   "metadata": {},
   "outputs": [],
   "source": [
    "dir_files = []\n",
    "for x in os.listdir(\"dataset/test\"):\n",
    "    dir_files.append(\n",
    "        os.path.join(\"dataset/test\", x))"
   ]
  },
  {
   "cell_type": "code",
   "execution_count": 17,
   "metadata": {},
   "outputs": [],
   "source": [
    "from PIL import Image\n",
    "transforms = transforms.Compose([\n",
    "    transforms.Resize((1081, 2049)),\n",
    "    transforms.CenterCrop((1080, 2048)),\n",
    "    transforms.ToTensor()\n",
    "])"
   ]
  },
  {
   "cell_type": "code",
   "execution_count": 22,
   "metadata": {},
   "outputs": [
    {
     "name": "stdout",
     "output_type": "stream",
     "text": [
      "1217.6593017578125\n",
      "1131.477783203125\n",
      "1134.4326171875\n",
      "1137.545166015625\n",
      "1128.778076171875\n"
     ]
    }
   ],
   "source": [
    "resnet50.cuda()\n",
    "resnet50.eval()\n",
    "with torch.no_grad():\n",
    "    for file in dir_files:\n",
    "        img = Image.open(file)\n",
    "        img = transforms(img).unsqueeze(0)\n",
    "        img = img.cuda()\n",
    "        start.record()\n",
    "        pred = resnet50(img)\n",
    "        end.record()\n",
    "        torch.cuda.synchronize()\n",
    "\n",
    "        print(start.elapsed_time(end))"
   ]
  },
  {
   "cell_type": "code",
   "execution_count": 20,
   "metadata": {},
   "outputs": [
    {
     "name": "stdout",
     "output_type": "stream",
     "text": [
      "415.5904541015625\n",
      "374.0682373046875\n",
      "370.2631530761719\n",
      "360.1529541015625\n",
      "367.6153564453125\n"
     ]
    }
   ],
   "source": [
    "resnet18.cuda()\n",
    "resnet18.eval()\n",
    "with torch.no_grad():\n",
    "    for file in dir_files:\n",
    "        img = Image.open(file)\n",
    "        img = transforms(img).unsqueeze(0)\n",
    "        img = img.cuda()\n",
    "        start.record()\n",
    "        pred = resnet18(img)\n",
    "        end.record()\n",
    "        torch.cuda.synchronize()\n",
    "\n",
    "        print(start.elapsed_time(end))"
   ]
  },
  {
   "cell_type": "code",
   "execution_count": 18,
   "metadata": {},
   "outputs": [
    {
     "name": "stdout",
     "output_type": "stream",
     "text": [
      "627.1863403320312\n",
      "379.0936279296875\n",
      "377.2144470214844\n",
      "385.5822448730469\n",
      "385.2484130859375\n"
     ]
    }
   ],
   "source": [
    "mobilenet.cuda()\n",
    "mobilenet.eval()\n",
    "with torch.no_grad():\n",
    "    for file in dir_files:\n",
    "        img = Image.open(file)\n",
    "        img = transforms(img).unsqueeze(0)\n",
    "        img = img.cuda()\n",
    "        start.record()\n",
    "        pred = mobilenet(img)\n",
    "        end.record()\n",
    "        torch.cuda.synchronize()\n",
    "\n",
    "        print(start.elapsed_time(end))"
   ]
  },
  {
   "cell_type": "code",
   "execution_count": null,
   "metadata": {},
   "outputs": [],
   "source": []
  }
 ],
 "metadata": {
  "kernelspec": {
   "display_name": "Python 3",
   "language": "python",
   "name": "python3"
  },
  "language_info": {
   "codemirror_mode": {
    "name": "ipython",
    "version": 3
   },
   "file_extension": ".py",
   "mimetype": "text/x-python",
   "name": "python",
   "nbconvert_exporter": "python",
   "pygments_lexer": "ipython3",
   "version": "3.6.9"
  }
 },
 "nbformat": 4,
 "nbformat_minor": 2
}
